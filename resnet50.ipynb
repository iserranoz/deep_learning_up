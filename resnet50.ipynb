{
 "cells": [
  {
   "cell_type": "code",
   "execution_count": 39,
   "metadata": {
    "executionInfo": {
     "elapsed": 2,
     "status": "ok",
     "timestamp": 1741949059852,
     "user": {
      "displayName": "Ivan Serrano Zapata",
      "userId": "02059329577359113477"
     },
     "user_tz": 360
    },
    "id": "X2u3V_DEq0dx"
   },
   "outputs": [],
   "source": [
    "#!pip install torchvision"
   ]
  },
  {
   "cell_type": "markdown",
   "metadata": {
    "id": "kX9h2OoxrhFX"
   },
   "source": [
    "### load data"
   ]
  },
  {
   "cell_type": "code",
   "execution_count": 9,
   "metadata": {
    "colab": {
     "base_uri": "https://localhost:8080/"
    },
    "executionInfo": {
     "elapsed": 11661,
     "status": "ok",
     "timestamp": 1741948226631,
     "user": {
      "displayName": "Ivan Serrano Zapata",
      "userId": "02059329577359113477"
     },
     "user_tz": 360
    },
    "id": "kBFTKolEq1JV",
    "outputId": "248b5699-4618-4682-c931-e72248cbf9d3"
   },
   "outputs": [
    {
     "name": "stdout",
     "output_type": "stream",
     "text": [
      "Files already downloaded and verified\n",
      "Files already downloaded and verified\n",
      "Tamaño set de entrenamiento: 5000\n",
      "Tamaño set de test: 8000\n"
     ]
    }
   ],
   "source": [
    "from torchvision import datasets\n",
    "from torch.utils.data import random_split\n",
    "\n",
    "data_train = datasets.STL10(root=\"data\", split=\"train\", download=True)\n",
    "\n",
    "data_test = datasets.STL10(root=\"data\", split=\"test\", download=True)\n",
    "\n",
    "## revisamos\n",
    "print(f\"Tamaño set de entrenamiento: {len(data_train)}\")\n",
    "print(f\"Tamaño set de test: {len(data_test)}\")"
   ]
  },
  {
   "cell_type": "code",
   "execution_count": 10,
   "metadata": {
    "colab": {
     "base_uri": "https://localhost:8080/"
    },
    "executionInfo": {
     "elapsed": 62,
     "status": "ok",
     "timestamp": 1741948231878,
     "user": {
      "displayName": "Ivan Serrano Zapata",
      "userId": "02059329577359113477"
     },
     "user_tz": 360
    },
    "id": "D69pwW4gKiS9",
    "outputId": "09036e48-ec44-4e91-d992-8c9a602fdec4"
   },
   "outputs": [
    {
     "name": "stdout",
     "output_type": "stream",
     "text": [
      "Tamaño set de entrenamiento: 5000\n",
      "Tamaño set de validación:    4000\n",
      "Tamaño set de test:        4000\n"
     ]
    }
   ],
   "source": [
    "val_len = len(data_test) // 2\n",
    "test_len = len(data_test) - val_len\n",
    "data_val, data_test = random_split(data_test, [val_len, test_len])\n",
    "\n",
    "print(f\"Tamaño set de entrenamiento: {len(data_train)}\")\n",
    "print(f\"Tamaño set de validación:    {len(data_val)}\")\n",
    "print(f\"Tamaño set de test:        {len(data_test)}\")"
   ]
  },
  {
   "cell_type": "code",
   "execution_count": 13,
   "metadata": {
    "colab": {
     "base_uri": "https://localhost:8080/",
     "height": 406
    },
    "executionInfo": {
     "elapsed": 150,
     "status": "ok",
     "timestamp": 1741948283681,
     "user": {
      "displayName": "Ivan Serrano Zapata",
      "userId": "02059329577359113477"
     },
     "user_tz": 360
    },
    "id": "m3UdezOLKiWD",
    "outputId": "666ed1d0-10c7-49e2-dcbe-540c1dac1c1d"
   },
   "outputs": [
    {
     "data": {
      "image/png": "[encoded data removed]",
      "text/plain": [
       "<Figure size 640x480 with 1 Axes>"
      ]
     },
     "metadata": {},
     "output_type": "display_data"
    }
   ],
   "source": [
    "import numpy as np\n",
    "import matplotlib.pyplot as plt\n",
    "\n",
    "indice = 25 \n",
    "sample_image = data_train.data[indice] \n",
    "sample_image = np.transpose(sample_image, (1, 2, 0))\n",
    "\n",
    "# 📌 Mostrar la imagen\n",
    "plt.imshow(sample_image)\n",
    "plt.axis(\"off\")\n",
    "plt.show()"
   ]
  },
  {
   "cell_type": "code",
   "execution_count": 14,
   "metadata": {
    "colab": {
     "base_uri": "https://localhost:8080/"
    },
    "executionInfo": {
     "elapsed": 5,
     "status": "ok",
     "timestamp": 1741948288705,
     "user": {
      "displayName": "Ivan Serrano Zapata",
      "userId": "02059329577359113477"
     },
     "user_tz": 360
    },
    "id": "PyYynnsZKiY7",
    "outputId": "99db8b14-39c4-4de8-ada5-efb9924bd4ab"
   },
   "outputs": [
    {
     "data": {
      "text/plain": [
       "(3, 96, 96)"
      ]
     },
     "execution_count": 14,
     "metadata": {},
     "output_type": "execute_result"
    }
   ],
   "source": [
    "data_train.data[25].shape"
   ]
  },
  {
   "cell_type": "code",
   "execution_count": null,
   "metadata": {
    "id": "FPWd2zWmQ36u"
   },
   "outputs": [],
   "source": [
    "from torch.utils.data import Dataset\n",
    "from torchvision import transforms\n",
    "\n",
    "class ImageDataset(Dataset):\n",
    "    def __init__(self, dataset, train=True):\n",
    "        self.dataset = dataset\n",
    "\n",
    "        if train:\n",
    "            self.transform = transforms.Compose([\n",
    "                transforms.RandomHorizontalFlip(p=0.5),  # gir horizontla con .5 de p\n",
    "                transforms.RandomRotation(15),  # rotar aleatorio ±15°\n",
    "                transforms.ColorJitter(brightness=0.2, contrast=0.2, saturation=0.2, hue=0.02),  # variar color\n",
    "                transforms.RandomAffine(degrees=0, translate=(0.1, 0.1), scale=(0.9, 1.1)),  # traslación y escalado\n",
    "                transforms.ToTensor(),\n",
    "                transforms.Normalize(mean=(0.5, 0.5, 0.5), std=(0.5, 0.5, 0.5))  # estandarizar\n",
    "            ])\n",
    "        else:\n",
    "            self.transform = transforms.Compose([\n",
    "                transforms.ToTensor(),\n",
    "                transforms.Normalize(mean=(0.5, 0.5, 0.5), std=(0.5, 0.5, 0.5))  # estandarizar\n",
    "            ])\n",
    "\n",
    "    def __len__(self):\n",
    "        return len(self.dataset)\n",
    "\n",
    "    def __getitem__(self, idx):\n",
    "        image, label = self.dataset[idx]\n",
    "        image = self.transform(image) \n",
    "\n",
    "        return image, label"
   ]
  },
  {
   "cell_type": "code",
   "execution_count": 41,
   "metadata": {
    "colab": {
     "base_uri": "https://localhost:8080/"
    },
    "executionInfo": {
     "elapsed": 4,
     "status": "ok",
     "timestamp": 1741949136245,
     "user": {
      "displayName": "Ivan Serrano Zapata",
      "userId": "02059329577359113477"
     },
     "user_tz": 360
    },
    "id": "3W31IycgKum9",
    "outputId": "4836b311-47af-4a69-dc67-1180026ba2d2"
   },
   "outputs": [
    {
     "name": "stdout",
     "output_type": "stream",
     "text": [
      "Tamaño set de entrenamiento: 5000\n",
      "Tamaño set de validación:    4000\n",
      "Tamaño set de test:        4000\n"
     ]
    }
   ],
   "source": [
    "dataset_train = ImageDataset(data_train)\n",
    "dataset_test = ImageDataset(data_test)\n",
    "dataset_val = ImageDataset(data_val)\n",
    "\n",
    "print(f\"Tamaño set de entrenamiento: {len(dataset_train)}\")\n",
    "print(f\"Tamaño set de validación:    {len(dataset_val)}\")\n",
    "print(f\"Tamaño set de test:        {len(dataset_test)}\")"
   ]
  },
  {
   "cell_type": "code",
   "execution_count": 42,
   "metadata": {
    "colab": {
     "base_uri": "https://localhost:8080/"
    },
    "executionInfo": {
     "elapsed": 18,
     "status": "ok",
     "timestamp": 1741949137761,
     "user": {
      "displayName": "Ivan Serrano Zapata",
      "userId": "02059329577359113477"
     },
     "user_tz": 360
    },
    "id": "DkyzcauDKuqF",
    "outputId": "fffd724a-102c-465c-f9f1-f754ee6f0f7a"
   },
   "outputs": [
    {
     "name": "stdout",
     "output_type": "stream",
     "text": [
      "Tipo de dato imagen: <class 'torch.Tensor'>\n",
      "Máximo/mínimo imagen: -1.0/1.0\n",
      "Tamaño imagen: torch.Size([3, 96, 96])\n",
      "Etiqueta imagen: 0\n"
     ]
    }
   ],
   "source": [
    "idx = 200\n",
    "img, lbl = dataset_train[idx]\n",
    "print(f\"Tipo de dato imagen: {type(img)}\")\n",
    "print(f\"Máximo/mínimo imagen: {img.min()}/{img.max()}\")\n",
    "print(f\"Tamaño imagen: {img.size()}\")\n",
    "print(f\"Etiqueta imagen: {lbl}\")"
   ]
  },
  {
   "cell_type": "markdown",
   "metadata": {
    "id": "GopOGWeOrrai"
   },
   "source": [
    "### Train model"
   ]
  },
  {
   "cell_type": "code",
   "execution_count": 43,
   "metadata": {
    "executionInfo": {
     "elapsed": 2,
     "status": "ok",
     "timestamp": 1741949142760,
     "user": {
      "displayName": "Ivan Serrano Zapata",
      "userId": "02059329577359113477"
     },
     "user_tz": 360
    },
    "id": "1Nbh5p_zxO0X"
   },
   "outputs": [],
   "source": [
    "from torch import nn\n",
    "import torch.optim as optim\n",
    "from torch.utils.data import DataLoader\n",
    "import numpy as np"
   ]
  },
  {
   "cell_type": "code",
   "execution_count": 44,
   "metadata": {
    "colab": {
     "base_uri": "https://localhost:8080/"
    },
    "executionInfo": {
     "elapsed": 3,
     "status": "ok",
     "timestamp": 1741949143445,
     "user": {
      "displayName": "Ivan Serrano Zapata",
      "userId": "02059329577359113477"
     },
     "user_tz": 360
    },
    "id": "uBmenFYzq1L7",
    "outputId": "15f7f502-1db6-4a98-b532-d49c521730ec"
   },
   "outputs": [
    {
     "name": "stdout",
     "output_type": "stream",
     "text": [
      "Usando la GPU\n"
     ]
    }
   ],
   "source": [
    "import torch\n",
    "if torch.cuda.is_available():\n",
    "    device = torch.device(\"cuda\")\n",
    "    print(\"Usando la GPU\")\n",
    "else:\n",
    "    device = torch.device(\"cpu\")\n",
    "    print(\"Usando la CPU\")"
   ]
  },
  {
   "cell_type": "code",
   "execution_count": 45,
   "metadata": {
    "colab": {
     "base_uri": "https://localhost:8080/"
    },
    "executionInfo": {
     "elapsed": 507,
     "status": "ok",
     "timestamp": 1741949145481,
     "user": {
      "displayName": "Ivan Serrano Zapata",
      "userId": "02059329577359113477"
     },
     "user_tz": 360
    },
    "id": "8E4SU31w9l2j",
    "outputId": "6c9088e8-caf6-4f02-ac67-66d1d5d14a0f"
   },
   "outputs": [
    {
     "name": "stderr",
     "output_type": "stream",
     "text": [
      "/usr/local/lib/python3.11/dist-packages/torchvision/models/_utils.py:208: UserWarning: The parameter 'pretrained' is deprecated since 0.13 and may be removed in the future, please use 'weights' instead.\n",
      "  warnings.warn(\n",
      "/usr/local/lib/python3.11/dist-packages/torchvision/models/_utils.py:223: UserWarning: Arguments other than a weight enum or `None` for 'weights' are deprecated since 0.13 and may be removed in the future. The current behavior is equivalent to passing `weights=ResNet50_Weights.IMAGENET1K_V1`. You can also use `weights=ResNet50_Weights.DEFAULT` to get the most up-to-date weights.\n",
      "  warnings.warn(msg)\n"
     ]
    }
   ],
   "source": [
    "import torch.nn as nn\n",
    "import torchvision.models as models\n",
    "from torch.utils.data import DataLoader\n",
    "import torch.optim as optim\n",
    "\n",
    "torch.manual_seed(35)\n",
    "\n",
    "# 1. importar ResNet\n",
    "model = models.resnet50(pretrained=True)"
   ]
  },
  {
   "cell_type": "code",
   "execution_count": 46,
   "metadata": {
    "colab": {
     "base_uri": "https://localhost:8080/"
    },
    "executionInfo": {
     "elapsed": 42,
     "status": "ok",
     "timestamp": 1741949147569,
     "user": {
      "displayName": "Ivan Serrano Zapata",
      "userId": "02059329577359113477"
     },
     "user_tz": 360
    },
    "id": "4xkupOrI9l78",
    "outputId": "e5a73fd4-41c6-45f7-a243-330de317a851"
   },
   "outputs": [
    {
     "data": {
      "text/plain": [
       "2048"
      ]
     },
     "execution_count": 46,
     "metadata": {},
     "output_type": "execute_result"
    }
   ],
   "source": [
    "num_features = model.fc.in_features\n",
    "num_features"
   ]
  },
  {
   "cell_type": "code",
   "execution_count": 47,
   "metadata": {
    "executionInfo": {
     "elapsed": 5,
     "status": "ok",
     "timestamp": 1741949148598,
     "user": {
      "displayName": "Ivan Serrano Zapata",
      "userId": "02059329577359113477"
     },
     "user_tz": 360
    },
    "id": "N__gILpv9l-y"
   },
   "outputs": [],
   "source": [
    "model.fc = nn.Sequential(\n",
    "    nn.Linear(num_features, 256),\n",
    "    nn.GELU(),\n",
    "    nn.Dropout(0.2),\n",
    "    nn.Linear(256, 10)\n",
    ")\n",
    "\n"
   ]
  },
  {
   "cell_type": "code",
   "execution_count": 48,
   "metadata": {
    "executionInfo": {
     "elapsed": 1,
     "status": "ok",
     "timestamp": 1741949149912,
     "user": {
      "displayName": "Ivan Serrano Zapata",
      "userId": "02059329577359113477"
     },
     "user_tz": 360
    },
    "id": "cyqQkd62E5Z1"
   },
   "outputs": [],
   "source": [
    "EPOCHS = 15\n",
    "lr = 0.001\n",
    "l2 = 1e-3\n",
    "BATCH_SIZE = 64\n",
    "perdida = nn.CrossEntropyLoss()\n",
    "optimizador = optim.AdamW(model.parameters(), lr=lr)\n",
    "\n",
    "dataloader_train = DataLoader(dataset_train, batch_size=BATCH_SIZE, shuffle=True)\n",
    "dataloader_val = DataLoader(dataset_val, batch_size=BATCH_SIZE, shuffle=True)\n",
    "dataloader_test = DataLoader(dataset_test, batch_size=BATCH_SIZE, shuffle=True)"
   ]
  },
  {
   "cell_type": "code",
   "execution_count": 49,
   "metadata": {
    "executionInfo": {
     "elapsed": 3,
     "status": "ok",
     "timestamp": 1741949151573,
     "user": {
      "displayName": "Ivan Serrano Zapata",
      "userId": "02059329577359113477"
     },
     "user_tz": 360
    },
    "id": "pv63vf5o94me"
   },
   "outputs": [],
   "source": [
    "def train_nn(dataloader, model, loss_fn, optimizer, device):\n",
    "    size = len(dataloader.dataset)\n",
    "    total_loss = 0\n",
    "    model.train()\n",
    "    model.to(device)\n",
    "\n",
    "    for i, (x, y) in enumerate(dataloader):\n",
    "        x = x.to(device)\n",
    "        y = y.to(device)\n",
    "\n",
    "        pred = model(x)\n",
    "        loss = loss_fn(pred, y)\n",
    "\n",
    "        loss.backward() \n",
    "        optimizer.step() \n",
    "        optimizer.zero_grad() \n",
    "\n",
    "        total_loss += loss.item()\n",
    "    total_loss = total_loss / len(dataloader)\n",
    "    print(f\"train_loss: {total_loss:>8f}\")\n",
    "    return total_loss\n",
    "\n",
    "\n",
    "def validate_nn(dataloader, model, loss_fn, device):\n",
    "    model.eval()\n",
    "    model.to(device)                  \n",
    "    size = len(dataloader.dataset) \n",
    "    n_lotes = len(dataloader)      \n",
    "    total_loss, aciertos = 0, 0 \n",
    "\n",
    "    with torch.no_grad():\n",
    "        for x, y in dataloader:\n",
    "            x, y = x.to(device), y.to(device)\n",
    "\n",
    "            pred = model(x)\n",
    "            total_loss += loss_fn(pred, y).item()\n",
    "            aciertos += (pred.argmax(1) == y).type(torch.float).sum().item()\n",
    "\n",
    "    val_loss = total_loss/n_lotes\n",
    "    aciertos /= size\n",
    "    print(f\"val_loss: {val_loss:>8f}\")\n",
    "    print(f\"Error validación (Accuracy): {(100*aciertos):>0.1f}\")\n",
    "\n",
    "    return val_loss"
   ]
  },
  {
   "cell_type": "code",
   "execution_count": 50,
   "metadata": {
    "colab": {
     "base_uri": "https://localhost:8080/"
    },
    "executionInfo": {
     "elapsed": 481990,
     "status": "ok",
     "timestamp": 1741949636168,
     "user": {
      "displayName": "Ivan Serrano Zapata",
      "userId": "02059329577359113477"
     },
     "user_tz": 360
    },
    "id": "2AoEB7tE94pD",
    "outputId": "8693ad2f-9937-4b80-91fe-b624c3eb3c3d"
   },
   "outputs": [
    {
     "name": "stdout",
     "output_type": "stream",
     "text": [
      "Training for 15 Epochs using cuda\n",
      "\n",
      "\n",
      "Epoch 1/15\n",
      "\n",
      "train_loss: 1.357066\n",
      "val_loss: 2.266643\n",
      "Error validación (Accuracy): 44.1\n",
      "-------------------------------\n",
      "\n",
      "Epoch 2/15\n",
      "\n",
      "train_loss: 1.030664\n",
      "val_loss: 1.044144\n",
      "Error validación (Accuracy): 65.2\n",
      "-------------------------------\n",
      "\n",
      "Epoch 3/15\n",
      "\n",
      "train_loss: 0.944688\n",
      "val_loss: 1.238847\n",
      "Error validación (Accuracy): 60.8\n",
      "-------------------------------\n",
      "\n",
      "Epoch 4/15\n",
      "\n",
      "train_loss: 0.957796\n",
      "val_loss: 1.009648\n",
      "Error validación (Accuracy): 65.6\n",
      "-------------------------------\n",
      "\n",
      "Epoch 5/15\n",
      "\n",
      "train_loss: 0.792368\n",
      "val_loss: 1.090027\n",
      "Error validación (Accuracy): 66.4\n",
      "-------------------------------\n",
      "\n",
      "Epoch 6/15\n",
      "\n",
      "train_loss: 0.831671\n",
      "val_loss: 0.915543\n",
      "Error validación (Accuracy): 68.5\n",
      "-------------------------------\n",
      "\n",
      "Epoch 7/15\n",
      "\n",
      "train_loss: 0.681167\n",
      "val_loss: 0.720314\n",
      "Error validación (Accuracy): 75.2\n",
      "-------------------------------\n",
      "\n",
      "Epoch 8/15\n",
      "\n",
      "train_loss: 0.626497\n",
      "val_loss: 0.846756\n",
      "Error validación (Accuracy): 71.2\n",
      "-------------------------------\n",
      "\n",
      "Epoch 9/15\n",
      "\n",
      "train_loss: 0.638523\n",
      "val_loss: 0.906744\n",
      "Error validación (Accuracy): 69.5\n",
      "-------------------------------\n",
      "\n",
      "Epoch 10/15\n",
      "\n",
      "train_loss: 0.587779\n",
      "val_loss: 0.749418\n",
      "Error validación (Accuracy): 74.7\n",
      "-------------------------------\n",
      "\n",
      "Epoch 11/15\n",
      "\n",
      "train_loss: 0.566530\n",
      "val_loss: 0.846265\n",
      "Error validación (Accuracy): 72.7\n",
      "-------------------------------\n",
      "\n",
      "Epoch 12/15\n",
      "\n",
      "train_loss: 0.520078\n",
      "val_loss: 0.694819\n",
      "Error validación (Accuracy): 76.8\n",
      "-------------------------------\n",
      "\n",
      "Epoch 13/15\n",
      "\n",
      "train_loss: 0.494565\n",
      "val_loss: 0.714151\n",
      "Error validación (Accuracy): 76.4\n",
      "-------------------------------\n",
      "\n",
      "Epoch 14/15\n",
      "\n",
      "train_loss: 0.469228\n",
      "val_loss: 0.915080\n",
      "Error validación (Accuracy): 71.6\n",
      "-------------------------------\n",
      "\n",
      "Epoch 15/15\n",
      "\n",
      "train_loss: 0.475255\n",
      "val_loss: 0.614291\n",
      "Error validación (Accuracy): 80.0\n",
      "-------------------------------\n",
      "\n"
     ]
    }
   ],
   "source": [
    "train_losses = []\n",
    "val_losses = []\n",
    "print(f\"Training for {EPOCHS} Epochs using {device}\")\n",
    "print(f\"\\n\")\n",
    "for t in range(EPOCHS):\n",
    "    print(f\"Epoch {t+1}/{EPOCHS}\\n\")\n",
    "    train_loss = train_nn(dataloader_train, model, perdida, optimizador, device)\n",
    "    val_loss = validate_nn(dataloader_val, model, perdida, device)\n",
    "    train_losses.append(train_loss)\n",
    "    val_losses.append(val_loss)\n",
    "    print(f\"-------------------------------\\n\")"
   ]
  },
  {
   "cell_type": "markdown",
   "metadata": {
    "id": "rRVvU51WruUN"
   },
   "source": [
    "### Eval model"
   ]
  },
  {
   "cell_type": "code",
   "execution_count": 51,
   "metadata": {
    "colab": {
     "base_uri": "https://localhost:8080/",
     "height": 495
    },
    "executionInfo": {
     "elapsed": 258,
     "status": "ok",
     "timestamp": 1741949648747,
     "user": {
      "displayName": "Ivan Serrano Zapata",
      "userId": "02059329577359113477"
     },
     "user_tz": 360
    },
    "id": "Sy7yBhlHrvtt",
    "outputId": "70ab052d-e2b1-44cc-907a-7cddd36460d3"
   },
   "outputs": [
    {
     "data": {
      "image/png": "[encoded data removed]",
      "text/plain": [
       "<Figure size 800x500 with 1 Axes>"
      ]
     },
     "metadata": {},
     "output_type": "display_data"
    }
   ],
   "source": [
    "import matplotlib.pyplot as plt\n",
    "\n",
    "plt.figure(figsize=(8, 5))\n",
    "\n",
    "plt.plot(train_losses, label='Pérdida Entrenamiento', color='royalblue', linewidth=2, marker='o', markersize=5)\n",
    "plt.plot(val_losses, label='Pérdida Validación', color='darkorange', linewidth=2, linestyle='--', marker='s', markersize=5)\n",
    "\n",
    "plt.xlabel('Épocas', fontsize=12)\n",
    "plt.ylabel('Pérdida', fontsize=12)\n",
    "plt.title('Evolución de la Pérdida durante el Entrenamiento', fontsize=14, fontweight='bold')\n",
    "\n",
    "plt.legend(fontsize=11, loc='upper right', frameon=True, shadow=True)\n",
    "\n",
    "plt.grid(True, linestyle='--', alpha=0.6)\n",
    "plt.gca().spines[\"top\"].set_visible(False)\n",
    "plt.gca().spines[\"right\"].set_visible(False)"
   ]
  },
  {
   "cell_type": "code",
   "execution_count": 52,
   "metadata": {
    "executionInfo": {
     "elapsed": 3,
     "status": "ok",
     "timestamp": 1741949654856,
     "user": {
      "displayName": "Ivan Serrano Zapata",
      "userId": "02059329577359113477"
     },
     "user_tz": 360
    },
    "id": "dPI0EHzSrwEc"
   },
   "outputs": [],
   "source": [
    "def calcular_acc(model, dataloader, device):\n",
    "    model.eval()\n",
    "    aciertos = 0\n",
    "\n",
    "    with torch.no_grad():\n",
    "        for x, y in dataloader:\n",
    "            x, y = x.to(device), y.to(device)\n",
    "\n",
    "            preds = model(x)\n",
    "            aciertos += (preds.argmax(1) == y).type(torch.float).sum().item()\n",
    "    exactitud = aciertos / len(dataloader.dataset)\n",
    "    return exactitud"
   ]
  },
  {
   "cell_type": "code",
   "execution_count": 53,
   "metadata": {
    "colab": {
     "base_uri": "https://localhost:8080/"
    },
    "executionInfo": {
     "elapsed": 38217,
     "status": "ok",
     "timestamp": 1741949694269,
     "user": {
      "displayName": "Ivan Serrano Zapata",
      "userId": "02059329577359113477"
     },
     "user_tz": 360
    },
    "id": "LFKUzy8drwHS",
    "outputId": "3e01f7e3-346e-4273-e80c-f1f12ae9b49c"
   },
   "outputs": [
    {
     "name": "stdout",
     "output_type": "stream",
     "text": [
      "Accuracy Train 87.540000%\n",
      "Accuracy val 80.075000%\n",
      "Accuracy Test 79.200000%\n"
     ]
    }
   ],
   "source": [
    "acc_train = calcular_acc(model, dataloader_train, device)\n",
    "acc_val = calcular_acc(model, dataloader_val, device)\n",
    "acc_test = calcular_acc(model, dataloader_test, device)\n",
    "\n",
    "print(f\"Accuracy Train {100*acc_train:.6f}%\")\n",
    "print(f\"Accuracy val {100*acc_val:.6f}%\")\n",
    "print(f\"Accuracy Test {100*acc_test:.6f}%\")"
   ]
  },
  {
   "cell_type": "code",
   "execution_count": null,
   "metadata": {
    "id": "uj_DVzJfrwJ5"
   },
   "outputs": [],
   "source": []
  },
  {
   "cell_type": "code",
   "execution_count": null,
   "metadata": {
    "id": "BgvUXiWUrwMe"
   },
   "outputs": [],
   "source": []
  }
 ],
 "metadata": {
  "accelerator": "GPU",
  "colab": {
   "authorship_tag": "ABX9TyMuket98+y+ORZR7Q69gkS9",
   "gpuType": "T4",
   "provenance": []
  },
  "kernelspec": {
   "display_name": "Python 3",
   "name": "python3"
  },
  "language_info": {
   "name": "python"
  }
 },
 "nbformat": 4,
 "nbformat_minor": 0
}
