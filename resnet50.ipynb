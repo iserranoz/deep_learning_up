{
  "cells": [
    {
      "cell_type": "code",
      "execution_count": 3,
      "metadata": {
        "id": "X2u3V_DEq0dx"
      },
      "outputs": [],
      "source": [
        "#!pip install torchvision"
      ]
    },
    {
      "cell_type": "markdown",
      "metadata": {
        "id": "kX9h2OoxrhFX"
      },
      "source": [
        "### load data"
      ]
    },
    {
      "cell_type": "code",
      "execution_count": 15,
      "metadata": {
        "colab": {
          "base_uri": "https://localhost:8080/"
        },
        "id": "kBFTKolEq1JV",
        "outputId": "de745a5a-f6c9-4289-ceb7-69c374582f77"
      },
      "outputs": [
        {
          "name": "stdout",
          "output_type": "stream",
          "text": [
            "Tamaño set de entrenamiento: 9000\n",
            "Tamaño set de validación:    2000\n",
            "Tamaño set de test:          2000\n"
          ]
        }
      ],
      "source": [
        "from torchvision import datasets\n",
        "from torch.utils.data import random_split, ConcatDataset\n",
        "\n",
        "\n",
        "data_train = datasets.STL10(root=\"data\", split=\"train\", download=True)\n",
        "data_test = datasets.STL10(root=\"data\", split=\"test\", download=True)\n",
        "\n",
        "extra_train_len = 4000\n",
        "remaining_test_len = len(data_test) - extra_train_len\n",
        "\n",
        "extra_train, data_test = random_split(data_test, [extra_train_len, remaining_test_len])\n",
        "\n",
        "data_train = ConcatDataset([data_train, extra_train])\n",
        "\n",
        "\n",
        "val_len = 2000\n",
        "test_len = len(data_test) - val_len\n",
        "data_val, data_test = random_split(data_test, [val_len, test_len])\n",
        "\n",
        "\n",
        "print(f\"Tamaño set de entrenamiento: {len(data_train)}\")\n",
        "print(f\"Tamaño set de validación:    {len(data_val)}\")\n",
        "print(f\"Tamaño set de test:          {len(data_test)}\")"
      ]
    },
    {
      "cell_type": "code",
      "execution_count": 17,
      "metadata": {
        "id": "FPWd2zWmQ36u"
      },
      "outputs": [],
      "source": [
        "from torch.utils.data import Dataset\n",
        "from torchvision import transforms\n",
        "\n",
        "class ImageDataset(Dataset):\n",
        "    def __init__(self, dataset, train=True):\n",
        "        self.dataset = dataset\n",
        "\n",
        "        if train:\n",
        "            self.transform = transforms.Compose([\n",
        "                transforms.RandomHorizontalFlip(p=0.5),\n",
        "                transforms.RandomRotation(15),\n",
        "                transforms.ColorJitter(brightness=0.2, contrast=0.2, saturation=0.2, hue=0.02),\n",
        "                transforms.RandomAffine(degrees=0, translate=(0.1, 0.1), scale=(0.9, 1.1)),\n",
        "                transforms.ToTensor(),\n",
        "                transforms.Normalize(mean=(0.5, 0.5, 0.5), std=(0.5, 0.5, 0.5))\n",
        "            ])\n",
        "        else:\n",
        "            self.transform = transforms.Compose([\n",
        "                transforms.ToTensor(),\n",
        "                transforms.Normalize(mean=(0.5, 0.5, 0.5), std=(0.5, 0.5, 0.5))\n",
        "            ])\n",
        "\n",
        "    def __len__(self):\n",
        "        return len(self.dataset)\n",
        "\n",
        "    def __getitem__(self, idx):\n",
        "        image, label = self.dataset[idx]\n",
        "        image = self.transform(image)\n",
        "\n",
        "        return image, label"
      ]
    },
    {
      "cell_type": "code",
      "execution_count": 18,
      "metadata": {
        "colab": {
          "base_uri": "https://localhost:8080/"
        },
        "id": "3W31IycgKum9",
        "outputId": "469d6caa-bcb7-477c-8d56-243b033a47b0"
      },
      "outputs": [
        {
          "name": "stdout",
          "output_type": "stream",
          "text": [
            "Tamaño set de entrenamiento: 9000\n",
            "Tamaño set de validación:    2000\n",
            "Tamaño set de test:        2000\n"
          ]
        }
      ],
      "source": [
        "dataset_train = ImageDataset(data_train)\n",
        "dataset_test = ImageDataset(data_test)\n",
        "dataset_val = ImageDataset(data_val)\n",
        "\n",
        "print(f\"Tamaño set de entrenamiento: {len(dataset_train)}\")\n",
        "print(f\"Tamaño set de validación:    {len(dataset_val)}\")\n",
        "print(f\"Tamaño set de test:        {len(dataset_test)}\")"
      ]
    },
    {
      "cell_type": "code",
      "execution_count": 19,
      "metadata": {
        "colab": {
          "base_uri": "https://localhost:8080/"
        },
        "id": "DkyzcauDKuqF",
        "outputId": "fe1ac483-4933-4289-aa2a-337a32096a9c"
      },
      "outputs": [
        {
          "name": "stdout",
          "output_type": "stream",
          "text": [
            "Tipo de dato imagen: <class 'torch.Tensor'>\n",
            "Máximo/mínimo imagen: -1.0/0.8352941274642944\n",
            "Tamaño imagen: torch.Size([3, 96, 96])\n",
            "Etiqueta imagen: 0\n"
          ]
        }
      ],
      "source": [
        "idx = 200\n",
        "img, lbl = dataset_train[idx]\n",
        "print(f\"Tipo de dato imagen: {type(img)}\")\n",
        "print(f\"Máximo/mínimo imagen: {img.min()}/{img.max()}\")\n",
        "print(f\"Tamaño imagen: {img.size()}\")\n",
        "print(f\"Etiqueta imagen: {lbl}\")"
      ]
    },
    {
      "cell_type": "markdown",
      "metadata": {
        "id": "GopOGWeOrrai"
      },
      "source": [
        "### Train model"
      ]
    },
    {
      "cell_type": "code",
      "execution_count": 20,
      "metadata": {
        "id": "1Nbh5p_zxO0X"
      },
      "outputs": [],
      "source": [
        "from torch import nn\n",
        "import torch.optim as optim\n",
        "import torchvision.models as models\n",
        "from torch.utils.data import DataLoader\n",
        "import numpy as np"
      ]
    },
    {
      "cell_type": "code",
      "execution_count": 21,
      "metadata": {
        "colab": {
          "base_uri": "https://localhost:8080/"
        },
        "id": "uBmenFYzq1L7",
        "outputId": "87a2218a-76d6-4a7c-ef2a-f1297419da7a"
      },
      "outputs": [
        {
          "name": "stdout",
          "output_type": "stream",
          "text": [
            "Usando la GPU\n"
          ]
        }
      ],
      "source": [
        "import torch\n",
        "if torch.cuda.is_available():\n",
        "    device = torch.device(\"cuda\")\n",
        "    print(\"Usando la GPU\")\n",
        "else:\n",
        "    device = torch.device(\"cpu\")\n",
        "    print(\"Usando la CPU\")"
      ]
    },
    {
      "cell_type": "code",
      "execution_count": 22,
      "metadata": {
        "colab": {
          "base_uri": "https://localhost:8080/"
        },
        "id": "8E4SU31w9l2j",
        "outputId": "782f1273-f324-4a96-8931-8169d21856c3"
      },
      "outputs": [
        {
          "name": "stderr",
          "output_type": "stream",
          "text": [
            "/usr/local/lib/python3.11/dist-packages/torchvision/models/_utils.py:208: UserWarning: The parameter 'pretrained' is deprecated since 0.13 and may be removed in the future, please use 'weights' instead.\n",
            "  warnings.warn(\n",
            "/usr/local/lib/python3.11/dist-packages/torchvision/models/_utils.py:223: UserWarning: Arguments other than a weight enum or `None` for 'weights' are deprecated since 0.13 and may be removed in the future. The current behavior is equivalent to passing `weights=ResNet50_Weights.IMAGENET1K_V1`. You can also use `weights=ResNet50_Weights.DEFAULT` to get the most up-to-date weights.\n",
            "  warnings.warn(msg)\n",
            "Downloading: \"https://download.pytorch.org/models/resnet50-0676ba61.pth\" to /root/.cache/torch/hub/checkpoints/resnet50-0676ba61.pth\n",
            "100%|██████████| 97.8M/97.8M [00:00<00:00, 194MB/s]\n"
          ]
        }
      ],
      "source": [
        "# 0.\n",
        "torch.manual_seed(35)\n",
        "\n",
        "# 1.\n",
        "model = models.resnet50(pretrained=True)"
      ]
    },
    {
      "cell_type": "code",
      "execution_count": 23,
      "metadata": {
        "colab": {
          "base_uri": "https://localhost:8080/"
        },
        "id": "4xkupOrI9l78",
        "outputId": "8ba0971a-2cc5-4b12-e860-9ac319c2db13"
      },
      "outputs": [
        {
          "data": {
            "text/plain": [
              "2048"
            ]
          },
          "execution_count": 23,
          "metadata": {},
          "output_type": "execute_result"
        }
      ],
      "source": [
        "num_features = model.fc.in_features\n",
        "num_features"
      ]
    },
    {
      "cell_type": "code",
      "execution_count": 24,
      "metadata": {
        "id": "N__gILpv9l-y"
      },
      "outputs": [],
      "source": [
        "model.fc = nn.Sequential(\n",
        "    nn.Linear(num_features, 256),\n",
        "    nn.GELU(),\n",
        "    nn.Dropout(0.2),\n",
        "    nn.Linear(256, 10)\n",
        ")\n",
        "\n"
      ]
    },
    {
      "cell_type": "code",
      "execution_count": 25,
      "metadata": {
        "id": "cyqQkd62E5Z1"
      },
      "outputs": [],
      "source": [
        "EPOCHS = 15\n",
        "lr = 0.001\n",
        "l2 = 1e-3\n",
        "BATCH_SIZE = 64\n",
        "perdida = nn.CrossEntropyLoss()\n",
        "optimizador = optim.AdamW(model.parameters(), lr=lr)\n",
        "\n",
        "dataloader_train = DataLoader(dataset_train, batch_size=BATCH_SIZE, shuffle=True)\n",
        "dataloader_val = DataLoader(dataset_val, batch_size=BATCH_SIZE, shuffle=True)\n",
        "dataloader_test = DataLoader(dataset_test, batch_size=BATCH_SIZE, shuffle=True)"
      ]
    },
    {
      "cell_type": "code",
      "execution_count": 26,
      "metadata": {
        "id": "pv63vf5o94me"
      },
      "outputs": [],
      "source": [
        "def train_nn(dataloader, model, loss_fn, optimizer, device):\n",
        "    size = len(dataloader.dataset)\n",
        "    total_loss = 0\n",
        "    model.train()\n",
        "    model.to(device)\n",
        "\n",
        "\n",
        "    for i, (x, y) in enumerate(dataloader):\n",
        "        x = x.to(device)\n",
        "        y = y.to(device)\n",
        "\n",
        "        pred = model(x)\n",
        "        loss = loss_fn(pred, y)\n",
        "\n",
        "        loss.backward()\n",
        "        optimizer.step()\n",
        "        optimizer.zero_grad()\n",
        "\n",
        "        total_loss += loss.item()\n",
        "    total_loss = total_loss / len(dataloader)\n",
        "    print(f\"train_loss: {total_loss:>8f}\")\n",
        "    return total_loss\n",
        "\n",
        "\n",
        "def validate_nn(dataloader, model, loss_fn, device):\n",
        "    model.eval()\n",
        "    model.to(device)\n",
        "    size = len(dataloader.dataset)\n",
        "    n_lotes = len(dataloader)\n",
        "    total_loss, aciertos = 0, 0\n",
        "\n",
        "    with torch.no_grad():\n",
        "        for x, y in dataloader:\n",
        "            x, y = x.to(device), y.to(device)\n",
        "\n",
        "            pred = model(x)\n",
        "\n",
        "            total_loss += loss_fn(pred, y).item()\n",
        "\n",
        "            aciertos += (pred.argmax(1) == y).type(torch.float).sum().item()\n",
        "\n",
        "    val_loss = total_loss/n_lotes\n",
        "    aciertos /= size\n",
        "    print(f\"val_loss: {val_loss:>8f}\")\n",
        "    print(f\"Error validación (Accuracy): {(100*aciertos):>0.1f}\")\n",
        "\n",
        "    return val_loss"
      ]
    },
    {
      "cell_type": "code",
      "execution_count": 27,
      "metadata": {
        "colab": {
          "base_uri": "https://localhost:8080/"
        },
        "id": "2AoEB7tE94pD",
        "outputId": "ef2654b6-b1f4-4e42-9426-5597c7bac644"
      },
      "outputs": [
        {
          "name": "stdout",
          "output_type": "stream",
          "text": [
            "Training for 15 Epochs using cuda\n",
            "\n",
            "\n",
            "Epoch 1/15\n",
            "\n",
            "train_loss: 1.180794\n",
            "val_loss: 1.180199\n",
            "Error validación (Accuracy): 63.1\n",
            "-------------------------------\n",
            "\n",
            "Epoch 2/15\n",
            "\n",
            "train_loss: 0.907641\n",
            "val_loss: 0.923722\n",
            "Error validación (Accuracy): 69.0\n",
            "-------------------------------\n",
            "\n",
            "Epoch 3/15\n",
            "\n",
            "train_loss: 0.743026\n",
            "val_loss: 0.781429\n",
            "Error validación (Accuracy): 74.0\n",
            "-------------------------------\n",
            "\n",
            "Epoch 4/15\n",
            "\n",
            "train_loss: 0.655016\n",
            "val_loss: 0.875561\n",
            "Error validación (Accuracy): 69.8\n",
            "-------------------------------\n",
            "\n",
            "Epoch 5/15\n",
            "\n",
            "train_loss: 0.622271\n",
            "val_loss: 0.748903\n",
            "Error validación (Accuracy): 74.3\n",
            "-------------------------------\n",
            "\n",
            "Epoch 6/15\n",
            "\n",
            "train_loss: 0.573890\n",
            "val_loss: 0.653182\n",
            "Error validación (Accuracy): 77.7\n",
            "-------------------------------\n",
            "\n",
            "Epoch 7/15\n",
            "\n",
            "train_loss: 0.524595\n",
            "val_loss: 0.653067\n",
            "Error validación (Accuracy): 78.6\n",
            "-------------------------------\n",
            "\n",
            "Epoch 8/15\n",
            "\n",
            "train_loss: 0.488389\n",
            "val_loss: 0.760082\n",
            "Error validación (Accuracy): 76.0\n",
            "-------------------------------\n",
            "\n",
            "Epoch 9/15\n",
            "\n",
            "train_loss: 0.467324\n",
            "val_loss: 0.637132\n",
            "Error validación (Accuracy): 78.3\n",
            "-------------------------------\n",
            "\n",
            "Epoch 10/15\n",
            "\n",
            "train_loss: 0.462424\n",
            "val_loss: 0.574283\n",
            "Error validación (Accuracy): 79.8\n",
            "-------------------------------\n",
            "\n",
            "Epoch 11/15\n",
            "\n",
            "train_loss: 0.437537\n",
            "val_loss: 0.801082\n",
            "Error validación (Accuracy): 74.7\n",
            "-------------------------------\n",
            "\n",
            "Epoch 12/15\n",
            "\n",
            "train_loss: 0.387216\n",
            "val_loss: 0.593371\n",
            "Error validación (Accuracy): 79.7\n",
            "-------------------------------\n",
            "\n",
            "Epoch 13/15\n",
            "\n",
            "train_loss: 0.380609\n",
            "val_loss: 0.601783\n",
            "Error validación (Accuracy): 80.5\n",
            "-------------------------------\n",
            "\n",
            "Epoch 14/15\n",
            "\n",
            "train_loss: 0.366818\n",
            "val_loss: 0.610784\n",
            "Error validación (Accuracy): 80.0\n",
            "-------------------------------\n",
            "\n",
            "Epoch 15/15\n",
            "\n",
            "train_loss: 0.352301\n",
            "val_loss: 0.616805\n",
            "Error validación (Accuracy): 80.7\n",
            "-------------------------------\n",
            "\n"
          ]
        }
      ],
      "source": [
        "train_losses = [] ## esto es para acumular las perdidas y graficar despues\n",
        "val_losses = []\n",
        "print(f\"Training for {EPOCHS} Epochs using {device}\")\n",
        "print(f\"\\n\")\n",
        "for t in range(EPOCHS):\n",
        "    print(f\"Epoch {t+1}/{EPOCHS}\\n\")\n",
        "    train_loss = train_nn(dataloader_train, model, perdida, optimizador, device)\n",
        "    val_loss = validate_nn(dataloader_val, model, perdida, device)\n",
        "    train_losses.append(train_loss)\n",
        "    val_losses.append(val_loss)\n",
        "    print(f\"-------------------------------\\n\")"
      ]
    },
    {
      "cell_type": "code",
      "execution_count": null,
      "metadata": {
        "id": "K3I1Kbe7rtnI"
      },
      "outputs": [],
      "source": []
    },
    {
      "cell_type": "markdown",
      "metadata": {
        "id": "rRVvU51WruUN"
      },
      "source": [
        "### Eval model"
      ]
    },
    {
      "cell_type": "code",
      "execution_count": 28,
      "metadata": {
        "colab": {
          "base_uri": "https://localhost:8080/",
          "height": 495
        },
        "id": "Sy7yBhlHrvtt",
        "outputId": "fd315bc3-baeb-419c-a233-be4a504c89b7"
      },
      "outputs": [
        {
          "data": {
            "image/png": "[encoded data removed]",
            "text/plain": [
              "<Figure size 800x500 with 1 Axes>"
            ]
          },
          "metadata": {},
          "output_type": "display_data"
        }
      ],
      "source": [
        "import matplotlib.pyplot as plt\n",
        "\n",
        "\n",
        "plt.figure(figsize=(8, 5))\n",
        "\n",
        "plt.plot(train_losses, label='Pérdida Entrenamiento', color='royalblue', linewidth=2, marker='o', markersize=5)\n",
        "plt.plot(val_losses, label='Pérdida Validación', color='darkorange', linewidth=2, linestyle='--', marker='s', markersize=5)\n",
        "\n",
        "plt.xlabel('Épocas', fontsize=12)\n",
        "plt.ylabel('Pérdida', fontsize=12)\n",
        "plt.title('Evolución de la Pérdida durante el Entrenamiento', fontsize=14, fontweight='bold')\n",
        "\n",
        "\n",
        "plt.legend(fontsize=11, loc='upper right', frameon=True, shadow=True)\n",
        "\n",
        "\n",
        "plt.grid(True, linestyle='--', alpha=0.6)\n",
        "\n",
        "plt.gca().spines[\"top\"].set_visible(False)\n",
        "plt.gca().spines[\"right\"].set_visible(False)"
      ]
    },
    {
      "cell_type": "code",
      "execution_count": 29,
      "metadata": {
        "id": "dPI0EHzSrwEc"
      },
      "outputs": [],
      "source": [
        "def calcular_acc(model, dataloader, device):\n",
        "    model.eval()\n",
        "    aciertos = 0\n",
        "\n",
        "\n",
        "    with torch.no_grad():\n",
        "        for x, y in dataloader:\n",
        "            x, y = x.to(device), y.to(device)\n",
        "\n",
        "            preds = model(x)\n",
        "\n",
        "\n",
        "            aciertos += (preds.argmax(1) == y).type(torch.float).sum().item()\n",
        "\n",
        "\n",
        "    exactitud = aciertos / len(dataloader.dataset)\n",
        "    return exactitud"
      ]
    },
    {
      "cell_type": "code",
      "execution_count": 30,
      "metadata": {
        "colab": {
          "base_uri": "https://localhost:8080/"
        },
        "id": "LFKUzy8drwHS",
        "outputId": "23865f8a-aff2-4743-89fd-c4511c898d04"
      },
      "outputs": [
        {
          "name": "stdout",
          "output_type": "stream",
          "text": [
            "Accuracy Train 87.988889%\n",
            "Accuracy val 80.050000%\n",
            "Accuracy Test 82.450000%\n"
          ]
        }
      ],
      "source": [
        "acc_train = calcular_acc(model, dataloader_train, device)\n",
        "acc_val = calcular_acc(model, dataloader_val, device)\n",
        "acc_test = calcular_acc(model, dataloader_test, device)\n",
        "\n",
        "print(f\"Accuracy Train {100*acc_train:.6f}%\")\n",
        "print(f\"Accuracy val {100*acc_val:.6f}%\")\n",
        "print(f\"Accuracy Test {100*acc_test:.6f}%\")"
      ]
    },
    {
      "cell_type": "code",
      "execution_count": null,
      "metadata": {
        "id": "uj_DVzJfrwJ5"
      },
      "outputs": [],
      "source": []
    },
    {
      "cell_type": "code",
      "execution_count": null,
      "metadata": {
        "id": "BgvUXiWUrwMe"
      },
      "outputs": [],
      "source": []
    }
  ],
  "metadata": {
    "accelerator": "GPU",
    "colab": {
      "gpuType": "T4",
      "provenance": []
    },
    "kernelspec": {
      "display_name": "Python 3",
      "name": "python3"
    },
    "language_info": {
      "name": "python"
    }
  },
  "nbformat": 4,
  "nbformat_minor": 0
}
