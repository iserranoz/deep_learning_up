{
  "cells": [
    {
      "cell_type": "code",
      "execution_count": 3,
      "metadata": {
        "id": "X2u3V_DEq0dx"
      },
      "outputs": [],
      "source": [
        "#!pip install torchvision"
      ]
    },
    {
      "cell_type": "markdown",
      "metadata": {
        "id": "kX9h2OoxrhFX"
      },
      "source": [
        "### load data"
      ]
    },
    {
      "cell_type": "code",
      "execution_count": 1,
      "metadata": {
        "colab": {
          "base_uri": "https://localhost:8080/"
        },
        "id": "kBFTKolEq1JV",
        "outputId": "30f39624-e388-4c29-f24e-ba6c3c8de5aa"
      },
      "outputs": [
        {
          "name": "stdout",
          "output_type": "stream",
          "text": [
            "Tamaño set de entrenamiento: 9000\n",
            "Tamaño set de validación:    2000\n",
            "Tamaño set de test:          2000\n"
          ]
        }
      ],
      "source": [
        "from torchvision import datasets\n",
        "from torch.utils.data import random_split, ConcatDataset\n",
        "\n",
        "\n",
        "data_train = datasets.STL10(root=\"data\", split=\"train\", download=True)\n",
        "data_test = datasets.STL10(root=\"data\", split=\"test\", download=True)\n",
        "\n",
        "extra_train_len = 4000\n",
        "remaining_test_len = len(data_test) - extra_train_len\n",
        "\n",
        "extra_train, data_test = random_split(data_test, [extra_train_len, remaining_test_len])\n",
        "\n",
        "data_train = ConcatDataset([data_train, extra_train])\n",
        "\n",
        "\n",
        "val_len = 2000\n",
        "test_len = len(data_test) - val_len\n",
        "data_val, data_test = random_split(data_test, [val_len, test_len])\n",
        "\n",
        "\n",
        "print(f\"Tamaño set de entrenamiento: {len(data_train)}\")\n",
        "print(f\"Tamaño set de validación:    {len(data_val)}\")\n",
        "print(f\"Tamaño set de test:          {len(data_test)}\")"
      ]
    },
    {
      "cell_type": "code",
      "execution_count": 2,
      "metadata": {
        "id": "GI7N6yEkrjsw"
      },
      "outputs": [],
      "source": [
        "from torch.utils.data import Dataset\n",
        "from torchvision import transforms\n",
        "\n",
        "class ImageDataset(Dataset):\n",
        "    def __init__(self, dataset, train=True):\n",
        "        self.dataset = dataset\n",
        "\n",
        "        if train:\n",
        "            self.transform = transforms.Compose([\n",
        "                transforms.RandomHorizontalFlip(p=0.5),\n",
        "                transforms.RandomRotation(15),\n",
        "                transforms.ColorJitter(brightness=0.2, contrast=0.2, saturation=0.2, hue=0.02),\n",
        "                transforms.RandomAffine(degrees=0, translate=(0.1, 0.1), scale=(0.9, 1.1)),\n",
        "                transforms.ToTensor(),\n",
        "                transforms.Normalize(mean=(0.5, 0.5, 0.5), std=(0.5, 0.5, 0.5))\n",
        "            ])\n",
        "        else:\n",
        "            self.transform = transforms.Compose([\n",
        "                transforms.ToTensor(),\n",
        "                transforms.Normalize(mean=(0.5, 0.5, 0.5), std=(0.5, 0.5, 0.5))\n",
        "            ])\n",
        "\n",
        "    def __len__(self):\n",
        "        return len(self.dataset)\n",
        "\n",
        "    def __getitem__(self, idx):\n",
        "        image, label = self.dataset[idx]\n",
        "        image = self.transform(image)\n",
        "\n",
        "        return image, label"
      ]
    },
    {
      "cell_type": "code",
      "execution_count": 3,
      "metadata": {
        "colab": {
          "base_uri": "https://localhost:8080/"
        },
        "id": "wq76dIHEs-2O",
        "outputId": "f84636fe-ecb6-474d-9184-aeaaa57ac2a5"
      },
      "outputs": [
        {
          "name": "stdout",
          "output_type": "stream",
          "text": [
            "Tamaño set de entrenamiento: 9000\n",
            "Tamaño set de validación:    2000\n",
            "Tamaño set de test:        2000\n"
          ]
        }
      ],
      "source": [
        "dataset_train = ImageDataset(data_train)\n",
        "dataset_test = ImageDataset(data_test)\n",
        "dataset_val = ImageDataset(data_val)\n",
        "\n",
        "print(f\"Tamaño set de entrenamiento: {len(dataset_train)}\")\n",
        "print(f\"Tamaño set de validación:    {len(dataset_val)}\")\n",
        "print(f\"Tamaño set de test:        {len(dataset_test)}\")"
      ]
    },
    {
      "cell_type": "code",
      "execution_count": 4,
      "metadata": {
        "colab": {
          "base_uri": "https://localhost:8080/"
        },
        "id": "umSL0_y0rjxv",
        "outputId": "876bb08b-525b-4f47-f85a-03b186527c53"
      },
      "outputs": [
        {
          "name": "stdout",
          "output_type": "stream",
          "text": [
            "Tipo de dato imagen: <class 'torch.Tensor'>\n",
            "Máximo/mínimo imagen: -1.0/0.5058823823928833\n",
            "Tamaño imagen: torch.Size([3, 96, 96])\n",
            "Etiqueta imagen: 0\n"
          ]
        }
      ],
      "source": [
        "idx = 200\n",
        "img, lbl = dataset_train[idx]\n",
        "print(f\"Tipo de dato imagen: {type(img)}\")\n",
        "print(f\"Máximo/mínimo imagen: {img.min()}/{img.max()}\")\n",
        "print(f\"Tamaño imagen: {img.size()}\")\n",
        "print(f\"Etiqueta imagen: {lbl}\")"
      ]
    },
    {
      "cell_type": "markdown",
      "metadata": {
        "id": "GopOGWeOrrai"
      },
      "source": [
        "### Train model"
      ]
    },
    {
      "cell_type": "code",
      "execution_count": 5,
      "metadata": {
        "id": "1Nbh5p_zxO0X"
      },
      "outputs": [],
      "source": [
        "from torch import nn\n",
        "from sklearn.metrics import roc_auc_score\n",
        "import torch.optim as optim\n",
        "from torch.utils.data import DataLoader\n",
        "import numpy as np"
      ]
    },
    {
      "cell_type": "code",
      "execution_count": 6,
      "metadata": {
        "colab": {
          "base_uri": "https://localhost:8080/"
        },
        "id": "uBmenFYzq1L7",
        "outputId": "351d1c8d-d0c7-4b04-9c45-dd3f25fd4d0c"
      },
      "outputs": [
        {
          "name": "stdout",
          "output_type": "stream",
          "text": [
            "Usando la GPU\n"
          ]
        }
      ],
      "source": [
        "import torch\n",
        "if torch.cuda.is_available():\n",
        "    device = torch.device(\"cuda\")\n",
        "    print(\"Usando la GPU\")\n",
        "else:\n",
        "    device = torch.device(\"cpu\")\n",
        "    print(\"Usando la CPU\")"
      ]
    },
    {
      "cell_type": "code",
      "execution_count": 7,
      "metadata": {
        "id": "j8Z0Cri4pqtF"
      },
      "outputs": [],
      "source": [
        "# 0. --------------------------------------------------\n",
        "\n",
        "torch.manual_seed(35)\n",
        "\n",
        "# 1. --------------------------------------------------\n",
        "\n",
        "class CNNModel(torch.nn.Module):\n",
        "  def __init__(self):\n",
        "    super().__init__()\n",
        "\n",
        "    # ----------------------------\n",
        "    # Convolutional Layer 1\n",
        "    # input size: (96,96,3)\n",
        "    # Config: kernel de 5x5, padding de 2 y stride de 1, al final activación ReLu\n",
        "    # output size: (Input_size - Kernel_size + 2*Padding) / Stride + 1 -> (96 - 5 + 2*2)/1 +1 = 96 más 32 filtros -> [96,96,32]\n",
        "    # ----------------------------\n",
        "    # Max Pooling Layer 1\n",
        "    # ----------------------------\n",
        "    # input size = [96,96,32]\n",
        "    # Config: max pooling con kernel de 5x5 más stride de 1\n",
        "    # output size = (Input_size - Kernel_size)/ stride + 1 -> (96-5)/1 + 1 = 92 -> (92,92,32)\n",
        "\n",
        "    self.conv1 = nn.Sequential(\n",
        "    nn.Conv2d(in_channels=3, out_channels=32, kernel_size=5, stride=1, padding=2),\n",
        "    nn.GELU(),\n",
        "    nn.MaxPool2d(kernel_size=5, stride=1)\n",
        "    )\n",
        "\n",
        "    # ----------------------------\n",
        "    # Convolutional Layer 2\n",
        "    # input size: (92,92,32)\n",
        "    # Config: kernel de 4x4, padding de 0 y stride de 1, al final activación GELU\n",
        "    # output size: (Input_size - Kernel_size + 2*Padding) / Stride + 1 -> (92 - 4 + 2*0)/1 +1 = 89 más 64 filtros -> [89,89,64]\n",
        "    # ----------------------------\n",
        "    # Max Pooling Layer 1\n",
        "    # ----------------------------\n",
        "    # input size = [89,89,64]\n",
        "    # Config: max pooling con kernel de 5x5 más stride de 1\n",
        "    # output size = (Input_size - Kernel_size)/ stride + 1 -> (89-5)/2 + 1 = 33 -> (43,43,64)\n",
        "\n",
        "    self.conv2 = nn.Sequential(\n",
        "    nn.Conv2d(in_channels=32, out_channels=64, kernel_size=4, stride=1, padding=0),\n",
        "    nn.GELU(),\n",
        "    nn.MaxPool2d(kernel_size=5, stride=2)\n",
        "    )\n",
        "\n",
        "    # ----------------------------\n",
        "    # Capas fully conected\n",
        "    # ----------------------------\n",
        "\n",
        "    self.fc1 = torch.nn.Linear(43*43*64, 512)\n",
        "    self.relu3 = torch.nn.ReLU()\n",
        "    self.dropout = torch.nn.Dropout(0.2)\n",
        "    self.fc3 = nn.Linear(512, 10)\n",
        "\n",
        "  def forward(self, x):\n",
        "\n",
        "        x = self.conv1(x)\n",
        "        x = self.conv2(x)\n",
        "        x = x.reshape(x.shape[0], 43*43*64)\n",
        "\n",
        "        x = self.fc1(x)\n",
        "        x = self.relu3(x)\n",
        "        x = self.dropout(x)\n",
        "        x = self.fc3(x)\n",
        "\n",
        "        return x"
      ]
    },
    {
      "cell_type": "code",
      "execution_count": 8,
      "metadata": {
        "id": "ltPAIDuIpqv5"
      },
      "outputs": [],
      "source": [
        "# 3.\n",
        "model = CNNModel()\n",
        "\n",
        "EPOCHS = 15\n",
        "lr = 0.001\n",
        "l2 = 1e-3\n",
        "BATCH_SIZE = 64\n",
        "perdida = nn.CrossEntropyLoss()\n",
        "optimizador = optim.AdamW(model.parameters(), lr=lr)\n",
        "\n",
        "dataloader_train = DataLoader(dataset_train, batch_size=BATCH_SIZE, shuffle=True)\n",
        "dataloader_val = DataLoader(dataset_val, batch_size=BATCH_SIZE, shuffle=True)\n",
        "dataloader_test = DataLoader(dataset_test, batch_size=BATCH_SIZE, shuffle=True)"
      ]
    },
    {
      "cell_type": "code",
      "execution_count": 9,
      "metadata": {
        "id": "-Hz49EU8su_v"
      },
      "outputs": [],
      "source": [
        "def train_nn(dataloader, model, loss_fn, optimizer, device):\n",
        "    size = len(dataloader.dataset)\n",
        "    total_loss = 0\n",
        "    model.train()\n",
        "    model.to(device)\n",
        "\n",
        "\n",
        "    for i, (x, y) in enumerate(dataloader):\n",
        "        x = x.to(device)\n",
        "        y = y.to(device)\n",
        "\n",
        "        pred = model(x)\n",
        "        loss = loss_fn(pred, y)\n",
        "\n",
        "        loss.backward()\n",
        "        optimizer.step()\n",
        "        optimizer.zero_grad()\n",
        "\n",
        "        total_loss += loss.item()\n",
        "    total_loss = total_loss / len(dataloader)\n",
        "    print(f\"train_loss: {total_loss:>8f}\")\n",
        "    return total_loss\n",
        "\n",
        "\n",
        "def validate_nn(dataloader, model, loss_fn, device):\n",
        "    model.eval()\n",
        "    model.to(device)\n",
        "    size = len(dataloader.dataset)\n",
        "    n_lotes = len(dataloader)\n",
        "    total_loss, aciertos = 0, 0\n",
        "\n",
        "    with torch.no_grad():\n",
        "        for x, y in dataloader:\n",
        "            x, y = x.to(device), y.to(device)\n",
        "\n",
        "            pred = model(x)\n",
        "\n",
        "            total_loss += loss_fn(pred, y).item()\n",
        "\n",
        "            aciertos += (pred.argmax(1) == y).type(torch.float).sum().item()\n",
        "\n",
        "    val_loss = total_loss/n_lotes\n",
        "    aciertos /= size\n",
        "    print(f\"val_loss: {val_loss:>8f}\")\n",
        "    print(f\"Error validación (Accuracy): {(100*aciertos):>0.1f}\")\n",
        "\n",
        "    return val_loss"
      ]
    },
    {
      "cell_type": "code",
      "execution_count": 10,
      "metadata": {
        "colab": {
          "base_uri": "https://localhost:8080/"
        },
        "id": "2AoEB7tE94pD",
        "outputId": "663b1eeb-b6bd-4dc8-ffab-1148538de083"
      },
      "outputs": [
        {
          "name": "stdout",
          "output_type": "stream",
          "text": [
            "Training for 15 Epochs using cuda\n",
            "\n",
            "\n",
            "Epoch 1/15\n",
            "\n",
            "train_loss: 1.880915\n",
            "val_loss: 1.559369\n",
            "Error validación (Accuracy): 43.4\n",
            "-------------------------------\n",
            "\n",
            "Epoch 2/15\n",
            "\n",
            "train_loss: 1.541891\n",
            "val_loss: 1.365641\n",
            "Error validación (Accuracy): 51.1\n",
            "-------------------------------\n",
            "\n",
            "Epoch 3/15\n",
            "\n",
            "train_loss: 1.407902\n",
            "val_loss: 1.271649\n",
            "Error validación (Accuracy): 54.9\n",
            "-------------------------------\n",
            "\n",
            "Epoch 4/15\n",
            "\n",
            "train_loss: 1.369674\n",
            "val_loss: 1.276094\n",
            "Error validación (Accuracy): 53.3\n",
            "-------------------------------\n",
            "\n",
            "Epoch 5/15\n",
            "\n",
            "train_loss: 1.339077\n",
            "val_loss: 1.255473\n",
            "Error validación (Accuracy): 54.3\n",
            "-------------------------------\n",
            "\n",
            "Epoch 6/15\n",
            "\n",
            "train_loss: 1.272700\n",
            "val_loss: 1.239173\n",
            "Error validación (Accuracy): 56.2\n",
            "-------------------------------\n",
            "\n",
            "Epoch 7/15\n",
            "\n",
            "train_loss: 1.270560\n",
            "val_loss: 1.179348\n",
            "Error validación (Accuracy): 57.9\n",
            "-------------------------------\n",
            "\n",
            "Epoch 8/15\n",
            "\n",
            "train_loss: 1.223532\n",
            "val_loss: 1.148823\n",
            "Error validación (Accuracy): 58.8\n",
            "-------------------------------\n",
            "\n",
            "Epoch 9/15\n",
            "\n",
            "train_loss: 1.207242\n",
            "val_loss: 1.150259\n",
            "Error validación (Accuracy): 60.0\n",
            "-------------------------------\n",
            "\n",
            "Epoch 10/15\n",
            "\n",
            "train_loss: 1.182787\n",
            "val_loss: 1.110309\n",
            "Error validación (Accuracy): 60.3\n",
            "-------------------------------\n",
            "\n",
            "Epoch 11/15\n",
            "\n",
            "train_loss: 1.157755\n",
            "val_loss: 1.115660\n",
            "Error validación (Accuracy): 60.2\n",
            "-------------------------------\n",
            "\n",
            "Epoch 12/15\n",
            "\n",
            "train_loss: 1.141253\n",
            "val_loss: 1.077818\n",
            "Error validación (Accuracy): 62.2\n",
            "-------------------------------\n",
            "\n",
            "Epoch 13/15\n",
            "\n",
            "train_loss: 1.125285\n",
            "val_loss: 1.115517\n",
            "Error validación (Accuracy): 61.4\n",
            "-------------------------------\n",
            "\n",
            "Epoch 14/15\n",
            "\n",
            "train_loss: 1.120794\n",
            "val_loss: 1.062034\n",
            "Error validación (Accuracy): 62.9\n",
            "-------------------------------\n",
            "\n",
            "Epoch 15/15\n",
            "\n",
            "train_loss: 1.108291\n",
            "val_loss: 1.112275\n",
            "Error validación (Accuracy): 61.9\n",
            "-------------------------------\n",
            "\n"
          ]
        }
      ],
      "source": [
        "train_losses = [] ## esto es para acumular las perdidas y graficar despues\n",
        "val_losses = []\n",
        "print(f\"Training for {EPOCHS} Epochs using {device}\")\n",
        "print(f\"\\n\")\n",
        "for t in range(EPOCHS):\n",
        "    print(f\"Epoch {t+1}/{EPOCHS}\\n\")\n",
        "    train_loss = train_nn(dataloader_train, model, perdida, optimizador, device)\n",
        "    val_loss = validate_nn(dataloader_val, model, perdida, device)\n",
        "    train_losses.append(train_loss)\n",
        "    val_losses.append(val_loss)\n",
        "    print(f\"-------------------------------\\n\")"
      ]
    },
    {
      "cell_type": "markdown",
      "metadata": {
        "id": "rRVvU51WruUN"
      },
      "source": [
        "### Eval model"
      ]
    },
    {
      "cell_type": "code",
      "execution_count": 11,
      "metadata": {
        "colab": {
          "base_uri": "https://localhost:8080/",
          "height": 495
        },
        "id": "Sy7yBhlHrvtt",
        "outputId": "56767048-d2b0-41b2-a4e1-cd7515e578a9"
      },
      "outputs": [
        {
          "data": {
            "image/png": "[encoded data removed]",
            "text/plain": [
              "<Figure size 800x500 with 1 Axes>"
            ]
          },
          "metadata": {},
          "output_type": "display_data"
        }
      ],
      "source": [
        "import matplotlib.pyplot as plt\n",
        "\n",
        "\n",
        "plt.figure(figsize=(8, 5))\n",
        "\n",
        "plt.plot(train_losses, label='Pérdida Entrenamiento', color='royalblue', linewidth=2, marker='o', markersize=5)\n",
        "plt.plot(val_losses, label='Pérdida Validación', color='darkorange', linewidth=2, linestyle='--', marker='s', markersize=5)\n",
        "\n",
        "plt.xlabel('Épocas', fontsize=12)\n",
        "plt.ylabel('Pérdida', fontsize=12)\n",
        "plt.title('Evolución de la Pérdida durante el Entrenamiento', fontsize=14, fontweight='bold')\n",
        "\n",
        "\n",
        "plt.legend(fontsize=11, loc='upper right', frameon=True, shadow=True)\n",
        "\n",
        "\n",
        "plt.grid(True, linestyle='--', alpha=0.6)\n",
        "\n",
        "plt.gca().spines[\"top\"].set_visible(False)\n",
        "plt.gca().spines[\"right\"].set_visible(False)"
      ]
    },
    {
      "cell_type": "code",
      "execution_count": 13,
      "metadata": {
        "id": "kcd3KSk-zdl2"
      },
      "outputs": [],
      "source": [
        "def calcular_acc(model, dataloader, device):\n",
        "    model.eval()\n",
        "    aciertos = 0\n",
        "\n",
        "\n",
        "    with torch.no_grad():\n",
        "        for x, y in dataloader:\n",
        "            x, y = x.to(device), y.to(device)\n",
        "\n",
        "            preds = model(x)\n",
        "\n",
        "\n",
        "            aciertos += (preds.argmax(1) == y).type(torch.float).sum().item()\n",
        "\n",
        "\n",
        "    exactitud = aciertos / len(dataloader.dataset)\n",
        "    return exactitud"
      ]
    },
    {
      "cell_type": "code",
      "execution_count": 14,
      "metadata": {
        "colab": {
          "base_uri": "https://localhost:8080/"
        },
        "id": "dPI0EHzSrwEc",
        "outputId": "4fdcee2e-6768-4101-b051-baa9344c821d"
      },
      "outputs": [
        {
          "name": "stdout",
          "output_type": "stream",
          "text": [
            "Accuracy Train 65.277778%\n",
            "Accuracy val 61.700000%\n",
            "Accuracy Test 58.750000%\n"
          ]
        }
      ],
      "source": [
        "acc_train = calcular_acc(model, dataloader_train, device)\n",
        "acc_val = calcular_acc(model, dataloader_val, device)\n",
        "acc_test = calcular_acc(model, dataloader_test, device)\n",
        "\n",
        "print(f\"Accuracy Train {100*acc_train:.6f}%\")\n",
        "print(f\"Accuracy val {100*acc_val:.6f}%\")\n",
        "print(f\"Accuracy Test {100*acc_test:.6f}%\")"
      ]
    },
    {
      "cell_type": "code",
      "execution_count": null,
      "metadata": {
        "id": "KhWY5OBGzdEO"
      },
      "outputs": [],
      "source": []
    },
    {
      "cell_type": "code",
      "execution_count": null,
      "metadata": {
        "id": "LFKUzy8drwHS"
      },
      "outputs": [],
      "source": []
    },
    {
      "cell_type": "code",
      "execution_count": null,
      "metadata": {
        "id": "uj_DVzJfrwJ5"
      },
      "outputs": [],
      "source": []
    },
    {
      "cell_type": "code",
      "execution_count": null,
      "metadata": {
        "id": "BgvUXiWUrwMe"
      },
      "outputs": [],
      "source": []
    }
  ],
  "metadata": {
    "accelerator": "GPU",
    "colab": {
      "gpuType": "T4",
      "provenance": []
    },
    "kernelspec": {
      "display_name": "Python 3",
      "name": "python3"
    },
    "language_info": {
      "name": "python"
    }
  },
  "nbformat": 4,
  "nbformat_minor": 0
}
